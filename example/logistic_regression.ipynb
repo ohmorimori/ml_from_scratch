{
 "cells": [
  {
   "cell_type": "code",
   "execution_count": 1,
   "metadata": {},
   "outputs": [],
   "source": [
    "import sys\n",
    "sys.path.append(\"../\")\n",
    "from supervised_learning import LogisticRegression\n",
    "from sklearn.model_selection import train_test_split\n",
    "from sklearn.preprocessing import StandardScaler\n",
    "from sklearn.datasets import make_regression\n",
    "import numpy as np\n",
    "import matplotlib.pyplot as plt "
   ]
  },
  {
   "cell_type": "code",
   "execution_count": 2,
   "metadata": {},
   "outputs": [],
   "source": [
    "\n",
    "#read data\n",
    "X, y = make_regression(n_samples=100, n_features=1, noise=20)\n",
    "y = y.reshape(-1, 1)\n",
    "X_train, X_test, y_train, y_test = train_test_split(X, y, test_size=0.2)\n",
    "X_train, X_val, y_train, y_val = train_test_split(X_train, y_train, test_size=0.2)\n",
    "\n",
    "\n",
    "#Standardize\n",
    "\n",
    "scaler = StandardScaler()\n",
    "#trainデータからmeanとstdevを計算\n",
    "scaler.fit(X_train)\n",
    "#normarize x -> (x - x_mean)/s\n",
    "X_train = scaler.transform(X_train)\n",
    "X_val = scaler.transform(X_val)\n",
    "X_test = scaler.transform(X_test)\n",
    "\n",
    "scaler.fit(y_train)\n",
    "y_train = scaler.transform(y_train)\n",
    "y_val = scaler.transform(y_val)\n",
    "y_test = scaler.transform(y_test)"
   ]
  },
  {
   "cell_type": "code",
   "execution_count": 3,
   "metadata": {},
   "outputs": [
    {
     "name": "stdout",
     "output_type": "stream",
     "text": [
      "iter: 1, train_loss: 1.056, val_loss:  0.871\n",
      "iter: 2, train_loss: 1.045, val_loss:  0.864\n",
      "iter: 3, train_loss: 1.033, val_loss:  0.857\n",
      "iter: 4, train_loss: 1.022, val_loss:  0.850\n",
      "iter: 5, train_loss: 1.010, val_loss:  0.843\n",
      "iter: 6, train_loss: 0.999, val_loss:  0.836\n",
      "iter: 7, train_loss: 0.987, val_loss:  0.829\n",
      "iter: 8, train_loss: 0.976, val_loss:  0.822\n",
      "iter: 9, train_loss: 0.965, val_loss:  0.815\n",
      "iter: 10, train_loss: 0.953, val_loss:  0.808\n",
      "iter: 11, train_loss: 0.942, val_loss:  0.801\n",
      "iter: 12, train_loss: 0.931, val_loss:  0.794\n",
      "iter: 13, train_loss: 0.920, val_loss:  0.788\n",
      "iter: 14, train_loss: 0.909, val_loss:  0.781\n",
      "iter: 15, train_loss: 0.898, val_loss:  0.774\n",
      "iter: 16, train_loss: 0.887, val_loss:  0.767\n",
      "iter: 17, train_loss: 0.876, val_loss:  0.761\n",
      "iter: 18, train_loss: 0.866, val_loss:  0.754\n",
      "iter: 19, train_loss: 0.855, val_loss:  0.748\n",
      "iter: 20, train_loss: 0.844, val_loss:  0.741\n",
      "iter: 21, train_loss: 0.833, val_loss:  0.734\n",
      "iter: 22, train_loss: 0.823, val_loss:  0.728\n",
      "iter: 23, train_loss: 0.812, val_loss:  0.721\n",
      "iter: 24, train_loss: 0.802, val_loss:  0.715\n",
      "iter: 25, train_loss: 0.791, val_loss:  0.709\n",
      "iter: 26, train_loss: 0.781, val_loss:  0.702\n",
      "iter: 27, train_loss: 0.771, val_loss:  0.696\n",
      "iter: 28, train_loss: 0.760, val_loss:  0.690\n",
      "iter: 29, train_loss: 0.750, val_loss:  0.683\n",
      "iter: 30, train_loss: 0.740, val_loss:  0.677\n",
      "iter: 31, train_loss: 0.730, val_loss:  0.671\n",
      "iter: 32, train_loss: 0.720, val_loss:  0.665\n",
      "iter: 33, train_loss: 0.710, val_loss:  0.658\n",
      "iter: 34, train_loss: 0.700, val_loss:  0.652\n",
      "iter: 35, train_loss: 0.690, val_loss:  0.646\n",
      "iter: 36, train_loss: 0.680, val_loss:  0.640\n",
      "iter: 37, train_loss: 0.670, val_loss:  0.634\n",
      "iter: 38, train_loss: 0.660, val_loss:  0.628\n",
      "iter: 39, train_loss: 0.650, val_loss:  0.622\n",
      "iter: 40, train_loss: 0.641, val_loss:  0.616\n",
      "iter: 41, train_loss: 0.631, val_loss:  0.610\n",
      "iter: 42, train_loss: 0.622, val_loss:  0.604\n",
      "iter: 43, train_loss: 0.612, val_loss:  0.598\n",
      "iter: 44, train_loss: 0.602, val_loss:  0.592\n",
      "iter: 45, train_loss: 0.593, val_loss:  0.586\n",
      "iter: 46, train_loss: 0.584, val_loss:  0.581\n",
      "iter: 47, train_loss: 0.574, val_loss:  0.575\n",
      "iter: 48, train_loss: 0.565, val_loss:  0.569\n",
      "iter: 49, train_loss: 0.556, val_loss:  0.563\n",
      "iter: 50, train_loss: 0.546, val_loss:  0.558\n",
      "iter: 51, train_loss: 0.537, val_loss:  0.552\n",
      "iter: 52, train_loss: 0.528, val_loss:  0.546\n",
      "iter: 53, train_loss: 0.519, val_loss:  0.541\n",
      "iter: 54, train_loss: 0.510, val_loss:  0.535\n",
      "iter: 55, train_loss: 0.501, val_loss:  0.530\n",
      "iter: 56, train_loss: 0.492, val_loss:  0.524\n",
      "iter: 57, train_loss: 0.483, val_loss:  0.518\n",
      "iter: 58, train_loss: 0.474, val_loss:  0.513\n",
      "iter: 59, train_loss: 0.465, val_loss:  0.507\n",
      "iter: 60, train_loss: 0.457, val_loss:  0.502\n",
      "iter: 61, train_loss: 0.448, val_loss:  0.497\n",
      "iter: 62, train_loss: 0.439, val_loss:  0.491\n",
      "iter: 63, train_loss: 0.431, val_loss:  0.486\n",
      "iter: 64, train_loss: 0.422, val_loss:  0.480\n",
      "iter: 65, train_loss: 0.413, val_loss:  0.475\n",
      "iter: 66, train_loss: 0.405, val_loss:  0.470\n",
      "iter: 67, train_loss: 0.396, val_loss:  0.465\n",
      "iter: 68, train_loss: 0.388, val_loss:  0.459\n",
      "iter: 69, train_loss: 0.379, val_loss:  0.454\n",
      "iter: 70, train_loss: 0.371, val_loss:  0.449\n",
      "iter: 71, train_loss: 0.363, val_loss:  0.444\n",
      "iter: 72, train_loss: 0.354, val_loss:  0.438\n",
      "iter: 73, train_loss: 0.346, val_loss:  0.433\n",
      "iter: 74, train_loss: 0.338, val_loss:  0.428\n",
      "iter: 75, train_loss: 0.330, val_loss:  0.423\n",
      "iter: 76, train_loss: 0.322, val_loss:  0.418\n",
      "iter: 77, train_loss: 0.314, val_loss:  0.413\n",
      "iter: 78, train_loss: 0.305, val_loss:  0.408\n",
      "iter: 79, train_loss: 0.297, val_loss:  0.403\n",
      "iter: 80, train_loss: 0.289, val_loss:  0.398\n",
      "iter: 81, train_loss: 0.281, val_loss:  0.393\n",
      "iter: 82, train_loss: 0.273, val_loss:  0.388\n",
      "iter: 83, train_loss: 0.266, val_loss:  0.383\n",
      "iter: 84, train_loss: 0.258, val_loss:  0.378\n",
      "iter: 85, train_loss: 0.250, val_loss:  0.373\n",
      "iter: 86, train_loss: 0.242, val_loss:  0.368\n",
      "iter: 87, train_loss: 0.234, val_loss:  0.364\n",
      "iter: 88, train_loss: 0.227, val_loss:  0.359\n",
      "iter: 89, train_loss: 0.219, val_loss:  0.354\n",
      "iter: 90, train_loss: 0.211, val_loss:  0.349\n",
      "iter: 91, train_loss: 0.204, val_loss:  0.344\n",
      "iter: 92, train_loss: 0.196, val_loss:  0.340\n",
      "iter: 93, train_loss: 0.188, val_loss:  0.335\n",
      "iter: 94, train_loss: 0.181, val_loss:  0.330\n",
      "iter: 95, train_loss: 0.173, val_loss:  0.325\n",
      "iter: 96, train_loss: 0.166, val_loss:  0.321\n",
      "iter: 97, train_loss: 0.158, val_loss:  0.316\n",
      "iter: 98, train_loss: 0.151, val_loss:  0.311\n",
      "iter: 99, train_loss: 0.144, val_loss:  0.307\n",
      "iter: 100, train_loss: 0.136, val_loss:  0.302\n"
     ]
    }
   ],
   "source": [
    "reg = LogisticRegression(n_iterations=100, learning_rate=1e-2)\n",
    "reg.fit(X_train, y_train, X_val, y_val)\n",
    "y_pred = reg.predict(X_test)"
   ]
  },
  {
   "cell_type": "code",
   "execution_count": 4,
   "metadata": {},
   "outputs": [
    {
     "data": {
      "image/png": "[encoded data removed]",
      "text/plain": [
       "<Figure size 432x288 with 1 Axes>"
      ]
     },
     "metadata": {
      "needs_background": "light"
     },
     "output_type": "display_data"
    }
   ],
   "source": [
    " \n",
    "    # Plot the results\n",
    "    m1 = plt.scatter(X_train, y_train)\n",
    "    m2 = plt.scatter(X_test, y_test)\n",
    "    plt.legend((m1, m2), (\"Training data\", \"Test data\"), loc='lower right')\n",
    "    plt.show()"
   ]
  },
  {
   "cell_type": "code",
   "execution_count": null,
   "metadata": {},
   "outputs": [],
   "source": []
  }
 ],
 "metadata": {
  "kernelspec": {
   "display_name": "Python 3",
   "language": "python",
   "name": "python3"
  },
  "language_info": {
   "codemirror_mode": {
    "name": "ipython",
    "version": 3
   },
   "file_extension": ".py",
   "mimetype": "text/x-python",
   "name": "python",
   "nbconvert_exporter": "python",
   "pygments_lexer": "ipython3",
   "version": "3.6.8"
  }
 },
 "nbformat": 4,
 "nbformat_minor": 2
}
