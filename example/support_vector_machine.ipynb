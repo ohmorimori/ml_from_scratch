{
 "cells": [
  {
   "cell_type": "code",
   "execution_count": 1,
   "metadata": {},
   "outputs": [],
   "source": [
    "import sys\n",
    "sys.path.append(\"../\")\n",
    "\n",
    "\n",
    "from sklearn.model_selection import train_test_split\n",
    "from sklearn.preprocessing import StandardScaler\n",
    "import numpy as np\n",
    "import matplotlib.pyplot as plt \n",
    "from supervised_learning import SVM"
   ]
  },
  {
   "cell_type": "code",
   "execution_count": 2,
   "metadata": {},
   "outputs": [],
   "source": [
    "import numpy as np\n",
    "\n",
    "np.random.seed(seed=0)\n",
    "n_samples = 100\n",
    "f0 = [-1, 2]\n",
    "f1 = [2, -1]\n",
    "cov = [[1.0,0.8], [0.8, 1.0]]\n",
    "\n",
    "f0 = np.random.multivariate_normal(f0, cov, int(n_samples/2))\n",
    "f1 = np.random.multivariate_normal(f1, cov, int(n_samples/2))\n",
    "\n",
    "X = np.concatenate((f0, f1))\n",
    "y = np.concatenate((np.ones((int(n_samples/2))), np.ones((int(n_samples/2))) *(-1))).astype(np.int)\n",
    "\n",
    "random_index = np.random.permutation(np.arange(n_samples))\n",
    "X = X[random_index]\n",
    "y = y[random_index]"
   ]
  },
  {
   "cell_type": "code",
   "execution_count": 3,
   "metadata": {},
   "outputs": [],
   "source": [
    "X_train, X_test, y_train, y_test = train_test_split(X, y, test_size=0.2)\n",
    "X_train, X_val, y_train, y_val = train_test_split(X_train, y_train, test_size=0.2)"
   ]
  },
  {
   "cell_type": "code",
   "execution_count": 4,
   "metadata": {},
   "outputs": [],
   "source": [
    "scaler = StandardScaler()\n",
    "#trainデータからmeanとstdevを計算\n",
    "scaler.fit(X_train)\n",
    "#normarize x -> (x - x_mean)/s\n",
    "X_train = scaler.transform(X_train)\n",
    "X_val = scaler.transform(X_val)\n",
    "X_test = scaler.transform(X_test)"
   ]
  },
  {
   "cell_type": "code",
   "execution_count": 5,
   "metadata": {},
   "outputs": [
    {
     "name": "stdout",
     "output_type": "stream",
     "text": [
      "iter: 1, train_margin: 0.000, val_margin:  0.000\n",
      "iter: 2, train_margin: 0.000, val_margin:  0.000\n"
     ]
    },
    {
     "name": "stderr",
     "output_type": "stream",
     "text": [
      "/Users/ohmori/anaconda3/lib/python3.6/site-packages/numpy/core/fromnumeric.py:3118: RuntimeWarning: Mean of empty slice.\n",
      "  out=out, **kwargs)\n",
      "/Users/ohmori/anaconda3/lib/python3.6/site-packages/numpy/core/_methods.py:85: RuntimeWarning: invalid value encountered in double_scalars\n",
      "  ret = ret.dtype.type(ret / rcount)\n",
      "../supervised_learning/support_vector_machine.py:101: RuntimeWarning: invalid value encountered in greater\n",
      "  y_pred = (y_pred > 0).astype(int)\n"
     ]
    },
    {
     "name": "stdout",
     "output_type": "stream",
     "text": [
      "iter: 3, train_margin: 0.000, val_margin:  0.000\n",
      "iter: 4, train_margin: 0.000, val_margin:  0.000\n",
      "iter: 5, train_margin: 0.000, val_margin:  0.000\n",
      "iter: 6, train_margin: 0.000, val_margin:  0.000\n",
      "iter: 7, train_margin: 0.000, val_margin:  0.000\n",
      "iter: 8, train_margin: 0.000, val_margin:  0.000\n",
      "iter: 9, train_margin: 0.000, val_margin:  0.000\n",
      "iter: 10, train_margin: 0.000, val_margin:  0.000\n",
      "iter: 11, train_margin: 0.000, val_margin:  0.000\n",
      "iter: 12, train_margin: 0.000, val_margin:  0.000\n",
      "iter: 13, train_margin: 0.000, val_margin:  0.000\n",
      "iter: 14, train_margin: 0.000, val_margin:  0.000\n",
      "iter: 15, train_margin: 0.000, val_margin:  0.000\n",
      "iter: 16, train_margin: 0.000, val_margin:  0.000\n",
      "iter: 17, train_margin: 0.000, val_margin:  0.000\n",
      "iter: 18, train_margin: 0.000, val_margin:  0.000\n",
      "iter: 19, train_margin: 0.000, val_margin:  0.000\n",
      "iter: 20, train_margin: 0.000, val_margin:  0.000\n",
      "iter: 21, train_margin: 0.000, val_margin:  0.000\n",
      "iter: 22, train_margin: 0.000, val_margin:  0.000\n",
      "iter: 23, train_margin: 0.000, val_margin:  0.000\n",
      "iter: 24, train_margin: 0.000, val_margin:  0.000\n",
      "iter: 25, train_margin: 0.000, val_margin:  0.000\n",
      "iter: 26, train_margin: 0.000, val_margin:  0.000\n",
      "iter: 27, train_margin: 0.000, val_margin:  0.000\n",
      "iter: 28, train_margin: 0.000, val_margin:  0.000\n",
      "iter: 29, train_margin: 0.000, val_margin:  0.000\n",
      "iter: 30, train_margin: -0.000, val_margin:  -0.000\n",
      "iter: 31, train_margin: -0.001, val_margin:  -0.001\n",
      "iter: 32, train_margin: -0.003, val_margin:  -0.004\n",
      "iter: 33, train_margin: -0.005, val_margin:  -0.005\n",
      "iter: 34, train_margin: -0.011, val_margin:  -0.012\n",
      "iter: 35, train_margin: -0.026, val_margin:  -0.029\n",
      "iter: 36, train_margin: -0.066, val_margin:  -0.072\n",
      "iter: 37, train_margin: -0.125, val_margin:  -0.125\n",
      "iter: 38, train_margin: -0.150, val_margin:  -0.166\n",
      "iter: 39, train_margin: -0.240, val_margin:  -0.267\n",
      "iter: 40, train_margin: -0.339, val_margin:  -0.377\n",
      "iter: 41, train_margin: -0.463, val_margin:  -0.515\n",
      "iter: 42, train_margin: -0.627, val_margin:  -0.697\n",
      "iter: 43, train_margin: -0.842, val_margin:  -0.935\n",
      "iter: 44, train_margin: -1.115, val_margin:  -1.239\n",
      "iter: 45, train_margin: -1.455, val_margin:  -1.617\n",
      "iter: 46, train_margin: -1.860, val_margin:  -2.067\n",
      "iter: 47, train_margin: -2.312, val_margin:  -2.569\n",
      "iter: 48, train_margin: -2.758, val_margin:  -3.065\n",
      "iter: 49, train_margin: -3.085, val_margin:  -3.428\n",
      "iter: 50, train_margin: -3.064, val_margin:  -3.404\n",
      "iter: 51, train_margin: -2.273, val_margin:  -2.525\n",
      "iter: 52, train_margin: 0.046, val_margin:  0.051\n",
      "iter: 53, train_margin: 5.211, val_margin:  5.790\n",
      "iter: 54, train_margin: 15.475, val_margin:  17.195\n",
      "iter: 55, train_margin: 34.627, val_margin:  38.475\n",
      "iter: 56, train_margin: 68.967, val_margin:  76.630\n",
      "iter: 57, train_margin: 128.866, val_margin:  143.184\n",
      "iter: 58, train_margin: 231.265, val_margin:  256.961\n",
      "iter: 59, train_margin: 403.658, val_margin:  448.509\n",
      "iter: 60, train_margin: 690.411, val_margin:  767.123\n",
      "iter: 61, train_margin: 1162.773, val_margin:  1291.970\n",
      "iter: 62, train_margin: 1934.699, val_margin:  2149.666\n",
      "iter: 63, train_margin: 3187.782, val_margin:  3541.980\n",
      "iter: 64, train_margin: 5210.484, val_margin:  5789.427\n",
      "iter: 65, train_margin: 8459.742, val_margin:  9399.713\n",
      "iter: 66, train_margin: 13657.556, val_margin:  15175.062\n",
      "iter: 67, train_margin: 21942.202, val_margin:  24380.224\n",
      "iter: 68, train_margin: 35104.639, val_margin:  39005.155\n",
      "iter: 69, train_margin: 55957.664, val_margin:  62175.182\n",
      "iter: 70, train_margin: 88911.684, val_margin:  98790.760\n",
      "iter: 71, train_margin: 140871.866, val_margin:  156524.295\n",
      "iter: 72, train_margin: 222634.669, val_margin:  247371.854\n",
      "iter: 73, train_margin: 351059.872, val_margin:  390066.524\n",
      "iter: 74, train_margin: 552445.980, val_margin:  613828.867\n",
      "iter: 75, train_margin: 867771.826, val_margin:  964190.918\n",
      "iter: 76, train_margin: 1360830.528, val_margin:  1512033.920\n",
      "iter: 77, train_margin: 2130843.753, val_margin:  2367604.170\n",
      "iter: 78, train_margin: 3332012.493, val_margin:  3702236.104\n",
      "iter: 79, train_margin: 5203801.992, val_margin:  5782002.214\n",
      "iter: 80, train_margin: 8117830.230, val_margin:  9019811.367\n",
      "iter: 81, train_margin: 12650428.083, val_margin:  14056031.203\n",
      "iter: 82, train_margin: 19694876.543, val_margin:  21883196.159\n",
      "iter: 83, train_margin: 30634944.919, val_margin:  34038827.688\n",
      "iter: 84, train_margin: 47613106.901, val_margin:  52903452.112\n",
      "iter: 85, train_margin: 73944938.013, val_margin:  82161042.237\n",
      "iter: 86, train_margin: 114759148.292, val_margin:  127510164.769\n",
      "iter: 87, train_margin: 177985792.859, val_margin:  197761992.065\n",
      "iter: 88, train_margin: 275881616.198, val_margin:  306535129.109\n",
      "iter: 89, train_margin: 427383829.862, val_margin:  474870922.069\n",
      "iter: 90, train_margin: 661741309.093, val_margin:  735268121.215\n",
      "iter: 91, train_margin: 1024115106.678, val_margin:  1137905674.086\n",
      "iter: 92, train_margin: 1584214327.558, val_margin:  1760238141.731\n",
      "iter: 93, train_margin: 2449609597.705, val_margin:  2721788441.895\n",
      "iter: 94, train_margin: 3786253579.561, val_margin:  4206948421.734\n",
      "iter: 95, train_margin: 5850103949.324, val_margin:  6500115499.248\n",
      "iter: 96, train_margin: 9035847029.717, val_margin:  10039830033.018\n",
      "iter: 97, train_margin: 13951956935.972, val_margin:  15502174373.302\n",
      "iter: 98, train_margin: 21536306524.795, val_margin:  23929229471.995\n",
      "iter: 99, train_margin: 33234212386.271, val_margin:  36926902651.412\n",
      "iter: 100, train_margin: 51272592140.081, val_margin:  56969546822.313\n"
     ]
    }
   ],
   "source": [
    "svm = SVM(n_iterations=100, learning_rate=1e-3, threshold=1e-4,kernel='rbf', gamma=1, power=4, coef=4)\n",
    "svm.fit(X_train, y_train, X_val, y_val)"
   ]
  },
  {
   "cell_type": "code",
   "execution_count": 6,
   "metadata": {},
   "outputs": [
    {
     "data": {
      "text/plain": [
       "array([[1],\n",
       "       [0],\n",
       "       [0],\n",
       "       [0],\n",
       "       [1],\n",
       "       [1],\n",
       "       [0],\n",
       "       [1],\n",
       "       [1],\n",
       "       [0],\n",
       "       [1],\n",
       "       [0],\n",
       "       [1],\n",
       "       [1],\n",
       "       [1],\n",
       "       [1],\n",
       "       [0],\n",
       "       [1],\n",
       "       [1],\n",
       "       [0]])"
      ]
     },
     "execution_count": 6,
     "metadata": {},
     "output_type": "execute_result"
    }
   ],
   "source": [
    "pred = svm.predict(X_test)\n",
    "pred"
   ]
  },
  {
   "cell_type": "code",
   "execution_count": 7,
   "metadata": {},
   "outputs": [
    {
     "data": {
      "image/png": "[encoded data removed]",
      "text/plain": [
       "<Figure size 432x288 with 1 Axes>"
      ]
     },
     "metadata": {
      "needs_background": "light"
     },
     "output_type": "display_data"
    },
    {
     "data": {
      "image/png": "[encoded data removed]",
      "text/plain": [
       "<Figure size 288x288 with 1 Axes>"
      ]
     },
     "metadata": {
      "needs_background": "light"
     },
     "output_type": "display_data"
    }
   ],
   "source": [
    "svm.decision_region(X_train, y_train)\n",
    "svm.plot_learning_curve()"
   ]
  },
  {
   "cell_type": "code",
   "execution_count": null,
   "metadata": {},
   "outputs": [],
   "source": []
  }
 ],
 "metadata": {
  "kernelspec": {
   "display_name": "Python 3",
   "language": "python",
   "name": "python3"
  },
  "language_info": {
   "codemirror_mode": {
    "name": "ipython",
    "version": 3
   },
   "file_extension": ".py",
   "mimetype": "text/x-python",
   "name": "python",
   "nbconvert_exporter": "python",
   "pygments_lexer": "ipython3",
   "version": "3.6.8"
  }
 },
 "nbformat": 4,
 "nbformat_minor": 2
}
