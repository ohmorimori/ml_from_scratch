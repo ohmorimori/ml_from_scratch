{
 "cells": [
  {
   "cell_type": "code",
   "execution_count": 1,
   "metadata": {},
   "outputs": [],
   "source": [
    "import sys\n",
    "sys.path.append(\"../\")\n",
    "from supervised_learning import LogisticRegression\n",
    "from sklearn.model_selection import train_test_split\n",
    "from sklearn.preprocessing import StandardScaler\n",
    "from sklearn.datasets import make_regression\n",
    "import numpy as np\n",
    "import matplotlib.pyplot as plt "
   ]
  },
  {
   "cell_type": "code",
   "execution_count": 2,
   "metadata": {},
   "outputs": [],
   "source": [
    "\n",
    "#read data\n",
    "X, y = make_regression(n_samples=100, n_features=1, noise=20)\n",
    "y = y.reshape(-1, 1)\n",
    "X_train, X_test, y_train, y_test = train_test_split(X, y, test_size=0.2)\n",
    "X_train, X_val, y_train, y_val = train_test_split(X_train, y_train, test_size=0.2)\n",
    "\n",
    "\n",
    "#Standardize\n",
    "\n",
    "scaler = StandardScaler()\n",
    "#trainデータからmeanとstdevを計算\n",
    "scaler.fit(X_train)\n",
    "#normarize x -> (x - x_mean)/s\n",
    "X_train = scaler.transform(X_train)\n",
    "X_val = scaler.transform(X_val)\n",
    "X_test = scaler.transform(X_test)\n",
    "\n",
    "scaler.fit(y_train)\n",
    "y_train = scaler.transform(y_train)\n",
    "y_val = scaler.transform(y_val)\n",
    "y_test = scaler.transform(y_test)"
   ]
  },
  {
   "cell_type": "code",
   "execution_count": 5,
   "metadata": {},
   "outputs": [
    {
     "name": "stdout",
     "output_type": "stream",
     "text": [
      "iter: 1, train_loss: 1.205, val_loss:  0.960\n",
      "iter: 2, train_loss: 1.191, val_loss:  0.951\n",
      "iter: 3, train_loss: 1.177, val_loss:  0.942\n",
      "iter: 4, train_loss: 1.163, val_loss:  0.933\n",
      "iter: 5, train_loss: 1.149, val_loss:  0.924\n",
      "iter: 6, train_loss: 1.135, val_loss:  0.915\n",
      "iter: 7, train_loss: 1.121, val_loss:  0.906\n",
      "iter: 8, train_loss: 1.107, val_loss:  0.897\n",
      "iter: 9, train_loss: 1.094, val_loss:  0.889\n",
      "iter: 10, train_loss: 1.080, val_loss:  0.880\n",
      "iter: 11, train_loss: 1.066, val_loss:  0.871\n",
      "iter: 12, train_loss: 1.053, val_loss:  0.863\n",
      "iter: 13, train_loss: 1.039, val_loss:  0.854\n",
      "iter: 14, train_loss: 1.026, val_loss:  0.845\n",
      "iter: 15, train_loss: 1.013, val_loss:  0.837\n",
      "iter: 16, train_loss: 0.999, val_loss:  0.828\n",
      "iter: 17, train_loss: 0.986, val_loss:  0.820\n",
      "iter: 18, train_loss: 0.973, val_loss:  0.812\n",
      "iter: 19, train_loss: 0.960, val_loss:  0.803\n",
      "iter: 20, train_loss: 0.947, val_loss:  0.795\n",
      "iter: 21, train_loss: 0.934, val_loss:  0.787\n",
      "iter: 22, train_loss: 0.921, val_loss:  0.779\n",
      "iter: 23, train_loss: 0.908, val_loss:  0.770\n",
      "iter: 24, train_loss: 0.895, val_loss:  0.762\n",
      "iter: 25, train_loss: 0.882, val_loss:  0.754\n",
      "iter: 26, train_loss: 0.870, val_loss:  0.746\n",
      "iter: 27, train_loss: 0.857, val_loss:  0.738\n",
      "iter: 28, train_loss: 0.844, val_loss:  0.730\n",
      "iter: 29, train_loss: 0.832, val_loss:  0.722\n",
      "iter: 30, train_loss: 0.820, val_loss:  0.714\n",
      "iter: 31, train_loss: 0.807, val_loss:  0.707\n",
      "iter: 32, train_loss: 0.795, val_loss:  0.699\n",
      "iter: 33, train_loss: 0.783, val_loss:  0.691\n",
      "iter: 34, train_loss: 0.770, val_loss:  0.683\n",
      "iter: 35, train_loss: 0.758, val_loss:  0.676\n",
      "iter: 36, train_loss: 0.746, val_loss:  0.668\n",
      "iter: 37, train_loss: 0.734, val_loss:  0.660\n",
      "iter: 38, train_loss: 0.722, val_loss:  0.653\n",
      "iter: 39, train_loss: 0.710, val_loss:  0.645\n",
      "iter: 40, train_loss: 0.699, val_loss:  0.638\n",
      "iter: 41, train_loss: 0.687, val_loss:  0.630\n",
      "iter: 42, train_loss: 0.675, val_loss:  0.623\n",
      "iter: 43, train_loss: 0.663, val_loss:  0.615\n",
      "iter: 44, train_loss: 0.652, val_loss:  0.608\n",
      "iter: 45, train_loss: 0.640, val_loss:  0.601\n",
      "iter: 46, train_loss: 0.629, val_loss:  0.594\n",
      "iter: 47, train_loss: 0.617, val_loss:  0.586\n",
      "iter: 48, train_loss: 0.606, val_loss:  0.579\n",
      "iter: 49, train_loss: 0.595, val_loss:  0.572\n",
      "iter: 50, train_loss: 0.583, val_loss:  0.565\n",
      "iter: 51, train_loss: 0.572, val_loss:  0.558\n",
      "iter: 52, train_loss: 0.561, val_loss:  0.551\n",
      "iter: 53, train_loss: 0.550, val_loss:  0.544\n",
      "iter: 54, train_loss: 0.539, val_loss:  0.537\n",
      "iter: 55, train_loss: 0.528, val_loss:  0.530\n",
      "iter: 56, train_loss: 0.517, val_loss:  0.523\n",
      "iter: 57, train_loss: 0.506, val_loss:  0.516\n",
      "iter: 58, train_loss: 0.495, val_loss:  0.509\n",
      "iter: 59, train_loss: 0.484, val_loss:  0.502\n",
      "iter: 60, train_loss: 0.474, val_loss:  0.496\n",
      "iter: 61, train_loss: 0.463, val_loss:  0.489\n",
      "iter: 62, train_loss: 0.452, val_loss:  0.482\n",
      "iter: 63, train_loss: 0.442, val_loss:  0.476\n",
      "iter: 64, train_loss: 0.431, val_loss:  0.469\n",
      "iter: 65, train_loss: 0.421, val_loss:  0.462\n",
      "iter: 66, train_loss: 0.411, val_loss:  0.456\n",
      "iter: 67, train_loss: 0.400, val_loss:  0.449\n",
      "iter: 68, train_loss: 0.390, val_loss:  0.443\n",
      "iter: 69, train_loss: 0.380, val_loss:  0.436\n",
      "iter: 70, train_loss: 0.369, val_loss:  0.430\n",
      "iter: 71, train_loss: 0.359, val_loss:  0.423\n",
      "iter: 72, train_loss: 0.349, val_loss:  0.417\n",
      "iter: 73, train_loss: 0.339, val_loss:  0.411\n",
      "iter: 74, train_loss: 0.329, val_loss:  0.404\n",
      "iter: 75, train_loss: 0.319, val_loss:  0.398\n",
      "iter: 76, train_loss: 0.309, val_loss:  0.392\n",
      "iter: 77, train_loss: 0.299, val_loss:  0.385\n",
      "iter: 78, train_loss: 0.289, val_loss:  0.379\n",
      "iter: 79, train_loss: 0.279, val_loss:  0.373\n",
      "iter: 80, train_loss: 0.270, val_loss:  0.367\n",
      "iter: 81, train_loss: 0.260, val_loss:  0.361\n",
      "iter: 82, train_loss: 0.250, val_loss:  0.355\n",
      "iter: 83, train_loss: 0.241, val_loss:  0.349\n",
      "iter: 84, train_loss: 0.231, val_loss:  0.343\n",
      "iter: 85, train_loss: 0.222, val_loss:  0.337\n",
      "iter: 86, train_loss: 0.212, val_loss:  0.331\n",
      "iter: 87, train_loss: 0.203, val_loss:  0.325\n",
      "iter: 88, train_loss: 0.193, val_loss:  0.319\n",
      "iter: 89, train_loss: 0.184, val_loss:  0.313\n",
      "iter: 90, train_loss: 0.174, val_loss:  0.307\n",
      "iter: 91, train_loss: 0.165, val_loss:  0.301\n",
      "iter: 92, train_loss: 0.156, val_loss:  0.295\n",
      "iter: 93, train_loss: 0.147, val_loss:  0.289\n",
      "iter: 94, train_loss: 0.137, val_loss:  0.284\n",
      "iter: 95, train_loss: 0.128, val_loss:  0.278\n",
      "iter: 96, train_loss: 0.119, val_loss:  0.272\n",
      "iter: 97, train_loss: 0.110, val_loss:  0.266\n",
      "iter: 98, train_loss: 0.101, val_loss:  0.261\n",
      "iter: 99, train_loss: 0.092, val_loss:  0.255\n",
      "iter: 100, train_loss: 0.083, val_loss:  0.250\n"
     ]
    }
   ],
   "source": [
    "reg = LogisticRegression(n_iterations=100, learning_rate=1e-2)\n",
    "reg.fit(X_train, y_train, X_val, y_val)\n",
    "y_pred = reg.predict(X_test)"
   ]
  },
  {
   "cell_type": "code",
   "execution_count": 6,
   "metadata": {},
   "outputs": [
    {
     "data": {
      "image/png": "[encoded data removed]",
      "text/plain": [
       "<Figure size 432x288 with 1 Axes>"
      ]
     },
     "metadata": {
      "needs_background": "light"
     },
     "output_type": "display_data"
    }
   ],
   "source": [
    " \n",
    "    # Plot the results\n",
    "    m1 = plt.scatter(X_train, y_train)\n",
    "    m2 = plt.scatter(X_test, y_test)\n",
    "    plt.legend((m1, m2), (\"Training data\", \"Test data\"), loc='lower right')\n",
    "    plt.show()"
   ]
  },
  {
   "cell_type": "code",
   "execution_count": null,
   "metadata": {},
   "outputs": [],
   "source": []
  }
 ],
 "metadata": {
  "kernelspec": {
   "display_name": "Python 3",
   "language": "python",
   "name": "python3"
  },
  "language_info": {
   "codemirror_mode": {
    "name": "ipython",
    "version": 3
   },
   "file_extension": ".py",
   "mimetype": "text/x-python",
   "name": "python",
   "nbconvert_exporter": "python",
   "pygments_lexer": "ipython3",
   "version": "3.6.8"
  }
 },
 "nbformat": 4,
 "nbformat_minor": 2
}
