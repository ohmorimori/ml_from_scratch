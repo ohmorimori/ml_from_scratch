{
 "cells": [
  {
   "cell_type": "code",
   "execution_count": 1,
   "metadata": {},
   "outputs": [],
   "source": [
    "import sys\n",
    "sys.path.append(\"../\")\n",
    "\n",
    "\n",
    "from sklearn.model_selection import train_test_split\n",
    "from sklearn.preprocessing import StandardScaler\n",
    "import numpy as np\n",
    "import matplotlib.pyplot as plt \n",
    "from supervised_learning import SVM"
   ]
  },
  {
   "cell_type": "code",
   "execution_count": 2,
   "metadata": {},
   "outputs": [],
   "source": [
    "import numpy as np\n",
    "\n",
    "np.random.seed(seed=0)\n",
    "n_samples = 100\n",
    "f0 = [-1, 2]\n",
    "f1 = [2, -1]\n",
    "cov = [[1.0,0.8], [0.8, 1.0]]\n",
    "\n",
    "f0 = np.random.multivariate_normal(f0, cov, int(n_samples/2))\n",
    "f1 = np.random.multivariate_normal(f1, cov, int(n_samples/2))\n",
    "\n",
    "X = np.concatenate((f0, f1))\n",
    "y = np.concatenate((np.ones((int(n_samples/2))), np.ones((int(n_samples/2))) *(-1))).astype(np.int)\n",
    "\n",
    "random_index = np.random.permutation(np.arange(n_samples))\n",
    "X = X[random_index]\n",
    "y = y[random_index]"
   ]
  },
  {
   "cell_type": "code",
   "execution_count": 3,
   "metadata": {},
   "outputs": [],
   "source": [
    "X_train, X_test, y_train, y_test = train_test_split(X, y, test_size=0.2)\n",
    "X_train, X_val, y_train, y_val = train_test_split(X_train, y_train, test_size=0.2)"
   ]
  },
  {
   "cell_type": "code",
   "execution_count": 12,
   "metadata": {},
   "outputs": [],
   "source": [
    "scaler = StandardScaler()\n",
    "#trainデータからmeanとstdevを計算\n",
    "scaler.fit(X_train)\n",
    "#normarize x -> (x - x_mean)/s\n",
    "X_train = scaler.transform(X_train)\n",
    "X_val = scaler.transform(X_val)\n",
    "X_test = scaler.transform(X_test)"
   ]
  },
  {
   "cell_type": "code",
   "execution_count": null,
   "metadata": {},
   "outputs": [
    {
     "name": "stdout",
     "output_type": "stream",
     "text": [
      "iter: 1, train_margin: 0.000, val_margin:  0.000\n",
      "iter: 2, train_margin: 0.000, val_margin:  0.000\n",
      "iter: 3, train_margin: 0.000, val_margin:  0.000\n",
      "iter: 4, train_margin: 0.000, val_margin:  0.000\n",
      "iter: 5, train_margin: 0.000, val_margin:  0.000\n",
      "iter: 6, train_margin: 0.000, val_margin:  0.000\n",
      "iter: 7, train_margin: 0.000, val_margin:  0.000\n",
      "iter: 8, train_margin: 0.000, val_margin:  0.000\n",
      "iter: 9, train_margin: 0.000, val_margin:  0.000\n",
      "iter: 10, train_margin: 0.000, val_margin:  0.000\n",
      "iter: 11, train_margin: 0.000, val_margin:  0.000\n",
      "iter: 12, train_margin: 0.000, val_margin:  0.000\n",
      "iter: 13, train_margin: 0.000, val_margin:  0.000\n",
      "iter: 14, train_margin: 0.000, val_margin:  0.000\n",
      "iter: 15, train_margin: 0.000, val_margin:  0.000\n",
      "iter: 16, train_margin: 0.000, val_margin:  0.000\n",
      "iter: 17, train_margin: 0.000, val_margin:  0.000\n",
      "iter: 18, train_margin: 0.000, val_margin:  0.000\n",
      "iter: 19, train_margin: 0.000, val_margin:  0.000\n",
      "iter: 20, train_margin: 0.000, val_margin:  0.000\n",
      "iter: 21, train_margin: 0.000, val_margin:  0.000\n",
      "iter: 22, train_margin: 0.000, val_margin:  0.000\n",
      "iter: 23, train_margin: 0.000, val_margin:  0.000\n",
      "iter: 24, train_margin: 0.000, val_margin:  0.000\n",
      "iter: 25, train_margin: 0.000, val_margin:  0.000\n",
      "iter: 26, train_margin: 0.000, val_margin:  0.000\n",
      "iter: 27, train_margin: 0.000, val_margin:  0.000\n",
      "iter: 28, train_margin: 0.000, val_margin:  0.000\n",
      "iter: 29, train_margin: 0.000, val_margin:  0.000\n",
      "iter: 30, train_margin: 0.000, val_margin:  0.000\n",
      "iter: 31, train_margin: 0.000, val_margin:  0.000\n",
      "iter: 32, train_margin: 0.000, val_margin:  0.000\n",
      "iter: 33, train_margin: 0.000, val_margin:  0.000\n",
      "iter: 34, train_margin: 0.000, val_margin:  0.000\n",
      "iter: 35, train_margin: 0.000, val_margin:  0.000\n",
      "iter: 36, train_margin: 0.000, val_margin:  0.000\n",
      "iter: 37, train_margin: 0.000, val_margin:  0.000\n",
      "iter: 38, train_margin: 0.000, val_margin:  0.000\n",
      "iter: 39, train_margin: 0.000, val_margin:  0.000\n",
      "iter: 40, train_margin: 0.000, val_margin:  0.000\n",
      "iter: 41, train_margin: 0.000, val_margin:  0.000\n",
      "iter: 42, train_margin: 0.000, val_margin:  0.000\n",
      "iter: 43, train_margin: 0.000, val_margin:  0.000\n",
      "iter: 44, train_margin: 0.000, val_margin:  0.000\n",
      "iter: 45, train_margin: 0.000, val_margin:  0.000\n",
      "iter: 46, train_margin: 0.000, val_margin:  0.000\n",
      "iter: 47, train_margin: 0.000, val_margin:  0.000\n",
      "iter: 48, train_margin: 0.000, val_margin:  0.000\n",
      "iter: 49, train_margin: 0.000, val_margin:  0.000\n",
      "iter: 50, train_margin: 0.000, val_margin:  0.000\n",
      "iter: 51, train_margin: 0.000, val_margin:  0.000\n",
      "iter: 52, train_margin: 0.000, val_margin:  0.000\n",
      "iter: 53, train_margin: 0.000, val_margin:  0.000\n",
      "iter: 54, train_margin: 0.000, val_margin:  0.000\n",
      "iter: 55, train_margin: 0.000, val_margin:  0.000\n",
      "iter: 56, train_margin: 0.000, val_margin:  0.000\n",
      "iter: 57, train_margin: 0.000, val_margin:  0.000\n",
      "iter: 58, train_margin: 0.000, val_margin:  0.000\n",
      "iter: 59, train_margin: 0.000, val_margin:  0.000\n",
      "iter: 60, train_margin: 0.000, val_margin:  0.000\n"
     ]
    }
   ],
   "source": [
    "svm = SVM(n_iterations=500, learning_rate=1e-4, threshold=1e-4,kernel='rbf', gamma=1, power=4, coef=4)\n",
    "svm.fit(X_train, y_train, X_val, y_val)"
   ]
  },
  {
   "cell_type": "code",
   "execution_count": 14,
   "metadata": {},
   "outputs": [
    {
     "data": {
      "text/plain": [
       "array([[0],\n",
       "       [0],\n",
       "       [0],\n",
       "       [0],\n",
       "       [0],\n",
       "       [0],\n",
       "       [0],\n",
       "       [0],\n",
       "       [0],\n",
       "       [0],\n",
       "       [0],\n",
       "       [0],\n",
       "       [0],\n",
       "       [0],\n",
       "       [0],\n",
       "       [0],\n",
       "       [0],\n",
       "       [0],\n",
       "       [0],\n",
       "       [0]])"
      ]
     },
     "execution_count": 14,
     "metadata": {},
     "output_type": "execute_result"
    }
   ],
   "source": [
    "pred = svm.predict(X_test)\n",
    "pred"
   ]
  },
  {
   "cell_type": "code",
   "execution_count": 15,
   "metadata": {},
   "outputs": [
    {
     "name": "stderr",
     "output_type": "stream",
     "text": [
      "../supervised_learning/support_vector_machine.py:159: UserWarning: No contour levels were found within the data range.\n",
      "  ax.contour(mesh_f0, mesh_f1, pred, n_class-1, colors='y', linewidths=3, alpha = 0.5)\n"
     ]
    },
    {
     "data": {
      "image/png": "[encoded data removed]",
      "text/plain": [
       "<Figure size 432x288 with 1 Axes>"
      ]
     },
     "metadata": {
      "needs_background": "light"
     },
     "output_type": "display_data"
    },
    {
     "data": {
      "image/png": "[encoded data removed]",
      "text/plain": [
       "<Figure size 288x288 with 1 Axes>"
      ]
     },
     "metadata": {
      "needs_background": "light"
     },
     "output_type": "display_data"
    }
   ],
   "source": [
    "svm.decision_region(X_train, y_train)\n",
    "svm.plot_learning_curve()"
   ]
  },
  {
   "cell_type": "code",
   "execution_count": null,
   "metadata": {},
   "outputs": [],
   "source": []
  }
 ],
 "metadata": {
  "kernelspec": {
   "display_name": "Python 3",
   "language": "python",
   "name": "python3"
  },
  "language_info": {
   "codemirror_mode": {
    "name": "ipython",
    "version": 3
   },
   "file_extension": ".py",
   "mimetype": "text/x-python",
   "name": "python",
   "nbconvert_exporter": "python",
   "pygments_lexer": "ipython3",
   "version": "3.6.8"
  }
 },
 "nbformat": 4,
 "nbformat_minor": 2
}
