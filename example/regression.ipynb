{
 "cells": [
  {
   "cell_type": "markdown",
   "metadata": {},
   "source": [
    "Lenear Regression"
   ]
  },
  {
   "cell_type": "code",
   "execution_count": 1,
   "metadata": {},
   "outputs": [],
   "source": [
    "import sys\n",
    "sys.path.append(\"../\")\n",
    "from supervised_learning import LinearRegression, PolynomialRegression, LassoRegression, RidgeRegression, ElasticNet\n",
    "from sklearn.model_selection import train_test_split\n",
    "from sklearn.preprocessing import StandardScaler\n",
    "from sklearn.datasets import make_regression\n",
    "import numpy as np\n",
    "import matplotlib.pyplot as plt "
   ]
  },
  {
   "cell_type": "code",
   "execution_count": 2,
   "metadata": {},
   "outputs": [],
   "source": [
    "\n",
    "#read data\n",
    "X, y = make_regression(n_samples=100, n_features=1, noise=20)\n",
    "y = y.reshape(-1, 1)\n",
    "X_train, X_test, y_train, y_test = train_test_split(X, y, test_size=0.2)\n",
    "X_train, X_val, y_train, y_val = train_test_split(X_train, y_train, test_size=0.2)\n",
    "\n",
    "\n",
    "#Standardize\n",
    "\n",
    "scaler = StandardScaler()\n",
    "#trainデータからmeanとstdevを計算\n",
    "scaler.fit(X_train)\n",
    "#normarize x -> (x - x_mean)/s\n",
    "X_train = scaler.transform(X_train)\n",
    "X_val = scaler.transform(X_val)\n",
    "X_test = scaler.transform(X_test)\n",
    "\n",
    "scaler.fit(y_train)\n",
    "y_train = scaler.transform(y_train)\n",
    "y_val = scaler.transform(y_val)\n",
    "y_test = scaler.transform(y_test)"
   ]
  },
  {
   "cell_type": "code",
   "execution_count": 5,
   "metadata": {},
   "outputs": [
    {
     "name": "stdout",
     "output_type": "stream",
     "text": [
      "iter: 1, train_loss: 0.494, val_loss:  0.652\n",
      "iter: 2, train_loss: 0.491, val_loss:  0.648\n",
      "iter: 3, train_loss: 0.478, val_loss:  0.630\n",
      "iter: 4, train_loss: 0.467, val_loss:  0.613\n",
      "iter: 5, train_loss: 0.456, val_loss:  0.598\n",
      "iter: 6, train_loss: 0.447, val_loss:  0.584\n",
      "iter: 7, train_loss: 0.438, val_loss:  0.571\n",
      "iter: 8, train_loss: 0.431, val_loss:  0.560\n",
      "iter: 9, train_loss: 0.424, val_loss:  0.549\n",
      "iter: 10, train_loss: 0.418, val_loss:  0.539\n",
      "iter: 11, train_loss: 0.412, val_loss:  0.531\n",
      "iter: 12, train_loss: 0.407, val_loss:  0.522\n",
      "iter: 13, train_loss: 0.403, val_loss:  0.515\n",
      "iter: 14, train_loss: 0.399, val_loss:  0.508\n",
      "iter: 15, train_loss: 0.396, val_loss:  0.502\n",
      "iter: 16, train_loss: 0.392, val_loss:  0.496\n",
      "iter: 17, train_loss: 0.389, val_loss:  0.491\n",
      "iter: 18, train_loss: 0.387, val_loss:  0.486\n",
      "iter: 19, train_loss: 0.385, val_loss:  0.482\n",
      "iter: 20, train_loss: 0.383, val_loss:  0.478\n",
      "iter: 21, train_loss: 0.381, val_loss:  0.474\n",
      "iter: 22, train_loss: 0.379, val_loss:  0.470\n",
      "iter: 23, train_loss: 0.377, val_loss:  0.467\n",
      "iter: 24, train_loss: 0.376, val_loss:  0.464\n",
      "iter: 25, train_loss: 0.375, val_loss:  0.461\n",
      "iter: 26, train_loss: 0.374, val_loss:  0.459\n",
      "iter: 27, train_loss: 0.373, val_loss:  0.456\n",
      "iter: 28, train_loss: 0.372, val_loss:  0.454\n",
      "iter: 29, train_loss: 0.371, val_loss:  0.452\n",
      "iter: 30, train_loss: 0.370, val_loss:  0.450\n",
      "iter: 31, train_loss: 0.370, val_loss:  0.449\n",
      "iter: 32, train_loss: 0.369, val_loss:  0.447\n",
      "iter: 33, train_loss: 0.369, val_loss:  0.445\n",
      "iter: 34, train_loss: 0.368, val_loss:  0.444\n",
      "iter: 35, train_loss: 0.368, val_loss:  0.443\n",
      "iter: 36, train_loss: 0.367, val_loss:  0.442\n",
      "iter: 37, train_loss: 0.367, val_loss:  0.441\n",
      "iter: 38, train_loss: 0.367, val_loss:  0.439\n",
      "iter: 39, train_loss: 0.366, val_loss:  0.439\n",
      "iter: 40, train_loss: 0.366, val_loss:  0.438\n",
      "iter: 41, train_loss: 0.366, val_loss:  0.437\n",
      "iter: 42, train_loss: 0.366, val_loss:  0.436\n",
      "iter: 43, train_loss: 0.366, val_loss:  0.435\n",
      "iter: 44, train_loss: 0.365, val_loss:  0.435\n",
      "iter: 45, train_loss: 0.365, val_loss:  0.434\n",
      "iter: 46, train_loss: 0.365, val_loss:  0.433\n",
      "iter: 47, train_loss: 0.365, val_loss:  0.433\n",
      "iter: 48, train_loss: 0.365, val_loss:  0.432\n",
      "iter: 49, train_loss: 0.365, val_loss:  0.432\n",
      "iter: 50, train_loss: 0.365, val_loss:  0.431\n",
      "iter: 51, train_loss: 0.365, val_loss:  0.431\n",
      "iter: 52, train_loss: 0.365, val_loss:  0.431\n",
      "iter: 53, train_loss: 0.365, val_loss:  0.430\n",
      "iter: 54, train_loss: 0.364, val_loss:  0.430\n",
      "iter: 55, train_loss: 0.364, val_loss:  0.430\n",
      "iter: 56, train_loss: 0.364, val_loss:  0.429\n",
      "iter: 57, train_loss: 0.364, val_loss:  0.429\n",
      "iter: 58, train_loss: 0.364, val_loss:  0.429\n",
      "iter: 59, train_loss: 0.364, val_loss:  0.429\n",
      "iter: 60, train_loss: 0.364, val_loss:  0.428\n",
      "iter: 61, train_loss: 0.364, val_loss:  0.428\n",
      "iter: 62, train_loss: 0.364, val_loss:  0.428\n",
      "iter: 63, train_loss: 0.364, val_loss:  0.428\n",
      "iter: 64, train_loss: 0.364, val_loss:  0.428\n",
      "iter: 65, train_loss: 0.364, val_loss:  0.427\n",
      "iter: 66, train_loss: 0.364, val_loss:  0.427\n",
      "iter: 67, train_loss: 0.364, val_loss:  0.427\n",
      "iter: 68, train_loss: 0.364, val_loss:  0.427\n",
      "iter: 69, train_loss: 0.364, val_loss:  0.427\n",
      "iter: 70, train_loss: 0.364, val_loss:  0.427\n",
      "iter: 71, train_loss: 0.364, val_loss:  0.427\n",
      "iter: 72, train_loss: 0.364, val_loss:  0.427\n",
      "iter: 73, train_loss: 0.364, val_loss:  0.427\n",
      "iter: 74, train_loss: 0.364, val_loss:  0.427\n",
      "iter: 75, train_loss: 0.364, val_loss:  0.427\n",
      "iter: 76, train_loss: 0.364, val_loss:  0.427\n",
      "iter: 77, train_loss: 0.364, val_loss:  0.427\n",
      "iter: 78, train_loss: 0.364, val_loss:  0.426\n",
      "iter: 79, train_loss: 0.364, val_loss:  0.426\n",
      "iter: 80, train_loss: 0.364, val_loss:  0.426\n",
      "iter: 81, train_loss: 0.364, val_loss:  0.426\n",
      "iter: 82, train_loss: 0.364, val_loss:  0.426\n",
      "iter: 83, train_loss: 0.364, val_loss:  0.426\n",
      "iter: 84, train_loss: 0.364, val_loss:  0.426\n",
      "iter: 85, train_loss: 0.364, val_loss:  0.426\n",
      "iter: 86, train_loss: 0.364, val_loss:  0.426\n",
      "iter: 87, train_loss: 0.364, val_loss:  0.426\n",
      "iter: 88, train_loss: 0.364, val_loss:  0.426\n",
      "iter: 89, train_loss: 0.364, val_loss:  0.426\n",
      "iter: 90, train_loss: 0.364, val_loss:  0.426\n",
      "iter: 91, train_loss: 0.364, val_loss:  0.427\n",
      "iter: 92, train_loss: 0.364, val_loss:  0.427\n",
      "iter: 93, train_loss: 0.365, val_loss:  0.427\n",
      "iter: 94, train_loss: 0.365, val_loss:  0.427\n",
      "iter: 95, train_loss: 0.365, val_loss:  0.427\n",
      "iter: 96, train_loss: 0.365, val_loss:  0.427\n",
      "iter: 97, train_loss: 0.365, val_loss:  0.427\n",
      "iter: 98, train_loss: 0.365, val_loss:  0.427\n",
      "iter: 99, train_loss: 0.365, val_loss:  0.427\n",
      "iter: 100, train_loss: 0.365, val_loss:  0.427\n"
     ]
    }
   ],
   "source": [
    "\n",
    "reg = LassoRegression(degree=4, reg_factor=1, n_iterations=100, learning_rate=1e-2)\n",
    "reg.fit(X_train, y_train, X_val, y_val)\n",
    "y_pred = reg.predict(X_test)\n"
   ]
  },
  {
   "cell_type": "code",
   "execution_count": 6,
   "metadata": {},
   "outputs": [
    {
     "data": {
      "image/png": "[encoded data removed]",
      "text/plain": [
       "<Figure size 432x288 with 1 Axes>"
      ]
     },
     "metadata": {
      "needs_background": "light"
     },
     "output_type": "display_data"
    }
   ],
   "source": [
    "    \n",
    "    # Plot the results\n",
    "    m1 = plt.scatter(X_train, y_train)\n",
    "    m2 = plt.scatter(X_test, y_test)\n",
    "    plt.legend((m1, m2), (\"Training data\", \"Test data\"), loc='lower right')\n",
    "    plt.show()"
   ]
  },
  {
   "cell_type": "code",
   "execution_count": null,
   "metadata": {},
   "outputs": [],
   "source": []
  }
 ],
 "metadata": {
  "kernelspec": {
   "display_name": "Python 3",
   "language": "python",
   "name": "python3"
  },
  "language_info": {
   "codemirror_mode": {
    "name": "ipython",
    "version": 3
   },
   "file_extension": ".py",
   "mimetype": "text/x-python",
   "name": "python",
   "nbconvert_exporter": "python",
   "pygments_lexer": "ipython3",
   "version": "3.6.8"
  }
 },
 "nbformat": 4,
 "nbformat_minor": 2
}
